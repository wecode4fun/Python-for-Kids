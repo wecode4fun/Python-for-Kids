{
  "nbformat": 4,
  "nbformat_minor": 0,
  "metadata": {
    "colab": {
      "name": "Python_for_kids_part_01.ipynb",
      "version": "0.3.2",
      "provenance": [],
      "collapsed_sections": [
        "-u2W4TfW4pON",
        "gWr5co29-VCG",
        "CecI5h3CCN0i",
        "HzIe5RLJEui-"
      ],
      "include_colab_link": true
    },
    "kernelspec": {
      "name": "python3",
      "display_name": "Python 3"
    }
  },
  "cells": [
    {
      "cell_type": "markdown",
      "metadata": {
        "id": "view-in-github",
        "colab_type": "text"
      },
      "source": [
        "<a href=\"https://colab.research.google.com/github/wecode4fun/Python-for-Kids/blob/master/Python_for_kids_part_01.ipynb\" target=\"_parent\"><img src=\"https://colab.research.google.com/assets/colab-badge.svg\" alt=\"Open In Colab\"/></a>"
      ]
    },
    {
      "metadata": {
        "id": "-u2W4TfW4pON",
        "colab_type": "text"
      },
      "cell_type": "markdown",
      "source": [
        "## **Introduction to Python for kids**"
      ]
    },
    {
      "metadata": {
        "id": "13LrDe7j5kpe",
        "colab_type": "text"
      },
      "cell_type": "markdown",
      "source": [
        "This Python 3 notebook is intended to provide some fun exercises designed to introduce kids to the basics of computer programming. For additional details please ...\n"
      ]
    },
    {
      "metadata": {
        "id": "WOovl1Sa6UTZ",
        "colab_type": "text"
      },
      "cell_type": "markdown",
      "source": [
        "\n",
        "Learning computer programming is increasingly becoming a necessary skill for many professions.\n",
        "\n",
        "Why learn Python? \n",
        "\n",
        "Difference between an interpreter and a compiler\n",
        "\n",
        "While teh specific syntax and grammar of the various programming languages such as C, C++, Java, Go, etc. can vary widely, they all share many characteristics and principles, which makes learning another programming language ...so don't worry too much about which language to start with\n",
        "\n",
        "There are some subtle (and some not so subtle!) differences between Python 2 and Python 3, but for people just getting started with Python, we recommend that you stick with version 3.x, why learn something that is already outdated?"
      ]
    },
    {
      "metadata": {
        "id": "_24H7V8b7IVA",
        "colab_type": "text"
      },
      "cell_type": "markdown",
      "source": [
        "#Displaying text on the screen\n",
        "\n",
        "The most fundamental python ... is the `print` statement. It allows the developer to provide feedback to the user about what the program is doing.\n",
        "\n"
      ]
    },
    {
      "metadata": {
        "id": "S23yGuFa4oIi",
        "colab_type": "code",
        "colab": {}
      },
      "cell_type": "code",
      "source": [
        "print('Some Text')"
      ],
      "execution_count": 0,
      "outputs": []
    },
    {
      "metadata": {
        "id": "YCd4NnhB7mV7",
        "colab_type": "text"
      },
      "cell_type": "markdown",
      "source": [
        "Python is not a very picky programming language, and the `print` statement will also work with double quotes `\"`."
      ]
    },
    {
      "metadata": {
        "id": "RS33TsnV8Of3",
        "colab_type": "code",
        "colab": {}
      },
      "cell_type": "code",
      "source": [
        "print(\"Some more text\")"
      ],
      "execution_count": 0,
      "outputs": []
    },
    {
      "metadata": {
        "id": "xSEPYDHp8PgI",
        "colab_type": "text"
      },
      "cell_type": "markdown",
      "source": [
        "The key is to remember to include both start and finish quotes, and to keep them consistent: if you open a single quote, close with a single quote or you will get an error:\n"
      ]
    },
    {
      "metadata": {
        "id": "m5ZqQBqX8Ho3",
        "colab_type": "code",
        "colab": {}
      },
      "cell_type": "code",
      "source": [
        "print('This will generate an error\")"
      ],
      "execution_count": 0,
      "outputs": []
    },
    {
      "metadata": {
        "id": "Le6PZJWm8eeY",
        "colab_type": "text"
      },
      "cell_type": "markdown",
      "source": [
        "The Python interpreter will run some validation tests on your program before attempting to execute it. If there are some \"grammatical\" errors, your program will not even attempt to run but instead display an error containing information about what the interpreter didn't like."
      ]
    },
    {
      "metadata": {
        "id": "gWr5co29-VCG",
        "colab_type": "text"
      },
      "cell_type": "markdown",
      "source": [
        "#Variables\n",
        "\n",
        "A very useful feature of any programming language is the ability to store values in variables. The benefit of variables is that they can be re-used anytime after they have been defined in the program, and that their value can be changed. \n",
        "\n",
        "##Variable Names\n",
        "The programmer has a lot of freedom when defining variable names, but there are a few guidelines to follow:\n",
        "- The variable name must begin with a letter (a - z, A - B) or underscore (_)\n",
        "- Remaining characters can be letters, numbers or _\n",
        "- The variable names are Case Sensitive: `my_variable` is NOT the same as `My_Variable`\n",
        "- Variable name can be any (reasonable) length\n",
        "- Do not use reserved words. For instance, do not use a variable named `print`!\n",
        "\n",
        "\n",
        "Good Variable Name\n",
        "Choose meaningful name instead of short name. roll_no is better than rn.\n",
        "Maintain the length of a variable name. Roll_no_of_a-student is too long?\n",
        "Be consistent; roll_no or RollNo\n",
        "Begin a variable name with an underscore(_) character for a special case.\n",
        "\n",
        "A variable is a memory location where a programmer can store a value. Example : roll_no, amount, name etc.\n",
        "Value is either string, numeric etc. Example : \"Sara\", 120, 25.36\n",
        "Variables are created when first assigned.\n",
        "Variables must be assigned before being referenced.\n",
        "The value stored in a variable can be accessed or updated later.\n",
        "No declaration required\n",
        "The type (string, int, float etc.) of the variable is determined by Python\n",
        "The interpreter allocates memory on the basis of the data type of a variable.\n",
        "\n",
        "\n",
        "Once again, Python is not extremely picky when defining variables, but there are some guidelines to follow:\n",
        "\n",
        "\n",
        "1.   Don't use any system names as variables names\n",
        "2.   make sure that your variable name conforms to the acceptable guidelines for the language you use\n",
        "\n",
        "\n",
        "##Variable Assignment\n",
        "Python Assignment Statements\n",
        "The assignment statement creates new variables and gives them values. Basic assignment statement in Python is :\n",
        "\n",
        "Syntax:\n",
        "\n",
        "``` python\n",
        "<variable> = <expr>\n",
        "```\n",
        "\n"
      ]
    },
    {
      "metadata": {
        "id": "pl1d-8sVBZav",
        "colab_type": "code",
        "colab": {}
      },
      "cell_type": "code",
      "source": [
        "my_name = \"John\"\n",
        "my_age = 12\n",
        "print(my_age)\n",
        "print(my_name)"
      ],
      "execution_count": 0,
      "outputs": []
    },
    {
      "metadata": {
        "id": "t_0PjIDwBtBF",
        "colab_type": "text"
      },
      "cell_type": "markdown",
      "source": [
        "Variables can be re-used at any time throughout the program AFTER they are defined.\n",
        "\n",
        "The `print` statement can also be used to print the value of more than one variable in a single line\n"
      ]
    },
    {
      "metadata": {
        "id": "so8tkC8ZCM26",
        "colab_type": "code",
        "colab": {}
      },
      "cell_type": "code",
      "source": [
        "print()"
      ],
      "execution_count": 0,
      "outputs": []
    },
    {
      "metadata": {
        "id": "P_JKAlu2AR_3",
        "colab_type": "text"
      },
      "cell_type": "markdown",
      "source": [
        "The value contained in a variable can also be changed at any given time.\n"
      ]
    },
    {
      "metadata": {
        "id": "rvSXdZZYAS5F",
        "colab_type": "code",
        "colab": {}
      },
      "cell_type": "code",
      "source": [
        ""
      ],
      "execution_count": 0,
      "outputs": []
    },
    {
      "metadata": {
        "id": "CecI5h3CCN0i",
        "colab_type": "text"
      },
      "cell_type": "markdown",
      "source": [
        "\n",
        "##Value Types\n",
        "\n",
        "The type (string, int, float etc.) of the variable is determined by Python and does not have to be specified.\n",
        "- String is text\n",
        "- Integer in a whole number\n",
        "- Float is a number with decimals\n",
        "\n",
        "\n",
        "**Note**:\n",
        "> A string can also contain numbers, but these numbers will be treated as text.\n",
        "\n",
        "\n",
        "\n",
        "\n",
        " \n",
        "##Operations on Variables\n",
        " \n",
        " Operators such as addition (+) and mutliplication (*) can be used on variables. The result of the operation depends on the type of the values stored in the variables.\n",
        " \n",
        " For instance, if the value stored in variable named `my_number` is an integer and we make an operation with another integer, then the result will be the arythmetic operation:"
      ]
    },
    {
      "metadata": {
        "id": "7vMYnX7sAUsb",
        "colab_type": "code",
        "colab": {}
      },
      "cell_type": "code",
      "source": [
        "my_number = 2\n",
        "print(my_number + 2)"
      ],
      "execution_count": 0,
      "outputs": []
    },
    {
      "metadata": {
        "id": "IcEARpbIBw9E",
        "colab_type": "text"
      },
      "cell_type": "markdown",
      "source": [
        "if the value stored in variable named my_text is a string (text) and we make add another string, the result will be the *concatenation* of both strings:"
      ]
    },
    {
      "metadata": {
        "id": "K6WDboBvCEBx",
        "colab_type": "code",
        "colab": {}
      },
      "cell_type": "code",
      "source": [
        "my_name = 'John'\n",
        "print('My name is ' + my_name)"
      ],
      "execution_count": 0,
      "outputs": []
    },
    {
      "metadata": {
        "id": "tNifrEWIBjHU",
        "colab_type": "text"
      },
      "cell_type": "markdown",
      "source": [
        "Operations on values of different types will confuse Python and result in errors. For instance, let's try adding a number to text:\n",
        "\n"
      ]
    },
    {
      "metadata": {
        "id": "Z-QYgSJcCZsn",
        "colab_type": "code",
        "colab": {}
      },
      "cell_type": "code",
      "source": [
        "my_age = 12\n",
        "print('My age is ' + my_age)"
      ],
      "execution_count": 0,
      "outputs": []
    },
    {
      "metadata": {
        "id": "ZThI18zoDeE-",
        "colab_type": "text"
      },
      "cell_type": "markdown",
      "source": [
        "In order to do this, we need to tell Python that we want top treat `my_age` as text and append it to teh strine:"
      ]
    },
    {
      "metadata": {
        "id": "yxg2DgThDu4p",
        "colab_type": "code",
        "colab": {}
      },
      "cell_type": "code",
      "source": [
        "my_age = 12\n",
        "print('My age is ' + str(my_age))\n",
        "print('In two years, my age will be ' + str(my_age + 2))"
      ],
      "execution_count": 0,
      "outputs": []
    },
    {
      "metadata": {
        "id": "KJNxzPseD42f",
        "colab_type": "text"
      },
      "cell_type": "markdown",
      "source": [
        "If we were to define the variable `my_age` to contain a value defined a string, we would then work with it this way:"
      ]
    },
    {
      "metadata": {
        "id": "HzIe5RLJEui-",
        "colab_type": "text"
      },
      "cell_type": "markdown",
      "source": [
        "##Operator Precedence\n",
        "\n",
        "The same rules of arythmetic also apply to programming, multiplications and divisions take precedence over additions and substractions. This can be a little confusing at first, and it is best to group operators using parenthesis to make sure that the operations are done in the proper order.\n",
        "\n",
        "As an example:"
      ]
    },
    {
      "metadata": {
        "id": "6IT_K6CFFC4d",
        "colab_type": "code",
        "colab": {}
      },
      "cell_type": "code",
      "source": [
        "print(2 + 2 * 3)"
      ],
      "execution_count": 0,
      "outputs": []
    },
    {
      "metadata": {
        "id": "4gf5CHaxFg6m",
        "colab_type": "code",
        "colab": {}
      },
      "cell_type": "code",
      "source": [
        "print((2 + 2) * 3)"
      ],
      "execution_count": 0,
      "outputs": []
    }
  ]
}